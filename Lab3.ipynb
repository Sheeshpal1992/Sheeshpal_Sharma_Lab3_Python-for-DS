{
 "cells": [
  {
   "cell_type": "markdown",
   "id": "VuYWX6yleVeo",
   "metadata": {
    "id": "VuYWX6yleVeo"
   },
   "source": [
    "# Sample Solution\n"
   ]
  },
  {
   "cell_type": "markdown",
   "id": "fcbd582c",
   "metadata": {
    "id": "fcbd582c"
   },
   "source": [
    "## Learning Outcomes\n",
    "- Exploratory data analysis & preparing the data for model building. \n",
    "- Machine Learning - Supervised Learning Classification\n",
    "  - Logistic Regression\n",
    "  - Naive bayes Classifier\n",
    "  - KNN Classifier\n",
    "  - Decision Tree Classifier\n",
    "  - Random Forest Classifier\n",
    "  - Ensemble methods\n",
    "- Training and making predictions using different classification models.\n",
    "- Model evaluation"
   ]
  },
  {
   "cell_type": "markdown",
   "id": "f2e961f9",
   "metadata": {
    "id": "f2e961f9"
   },
   "source": [
    "## Objective: \n",
    "- The Classification goal is to predict “heart disease” in a person with regards to different factors given. \n",
    "\n",
    "## Context:\n",
    "- Heart disease is one of the leading causes of death for people of most races in the US. At least 1 of 3 key risk factors for heart disease: high blood pressure, high cholesterol, and smoking. \n",
    "- Detecting and preventing the factors that have the greatest impact on heart disease is very important in healthcare. Machine learning methods may detect \"patterns\" from the data and can predict whether a patient is suffering from any heart disease or not..\n",
    "\n",
    "## Dataset Information\n",
    "\n",
    "#### Source: https://www.kaggle.com/datasets/kamilpytlak/personal-key-indicators-of-heart-disease?datasetId=1936563&sortBy=voteCount\n",
    "Originally, the dataset come from the CDC and is a major part of the Behavioral Risk Factor Surveillance System (BRFSS), which conducts annual telephone surveys to gather data on the health status of U.S. residents. \n",
    "\n",
    "This dataset consists of eighteen columns\n",
    "- HeartDisease: Respondents that have ever reported having coronary heart disease (CHD) or myocardial infarction (MI)\n",
    "- BMI: Body Mass Index (BMI)\n",
    "- Smoking: smoked at least 100 cigarettes in your entire life\n",
    "- AlcoholDrinking: Heavy drinkers (adult men having more than 14 drinks per week and adult women having more than 7 drinks per week\n",
    "- Stroke:Ever had a stroke?\n",
    "- PhysicalHealth: physical health, which includes physical illness and injury\n",
    "- MentalHealth: for how many days during the past 30 days was your mental health not good?\n",
    "- DiffWalking: Do you have serious difficulty walking or climbing stairs?\n",
    "- Sex: male or female?\n",
    "- AgeCategory: Fourteen-level age category\n",
    "- Race: Imputed race/ethnicity value\n",
    "- Diabetic: diabetes?\n",
    "- PhysicalActivity: Adults who reported doing physical activity or exercise during the past 30 days other than their regular job\n",
    "- GenHealth: Would you say that in general your health is good, fine or excellent?\n",
    "- SleepTime: On average, how many hours of sleep do you get in a 24-hour period?\n",
    "- Asthma: you had asthma?\n",
    "- KidneyDisease: Not including kidney stones, bladder infection or incontinence, were you ever told you had kidney disease?\n",
    "- SkinCancer: Ever had skin cancer?"
   ]
  },
  {
   "cell_type": "markdown",
   "id": "f8617014",
   "metadata": {
    "id": "f8617014"
   },
   "source": [
    "### 1. Importing Libraries"
   ]
  },
  {
   "cell_type": "code",
   "execution_count": null,
   "id": "e0b0b6ab",
   "metadata": {
    "id": "e0b0b6ab"
   },
   "outputs": [],
   "source": [
    "import numpy as np \n",
    "import pandas as pd \n",
    "import matplotlib.pyplot as plt\n",
    "import seaborn as sns\n",
    "import sklearn\n",
    "from sklearn.model_selection import train_test_split\n",
    "from sklearn.preprocessing import StandardScaler\n",
    "from sklearn.linear_model import LogisticRegression\n",
    "from sklearn.metrics import accuracy_score,confusion_matrix\n",
    "from sklearn.preprocessing import LabelEncoder\n",
    "import warnings\n",
    "warnings.filterwarnings('ignore')\n",
    "\n",
    "from sklearn.neighbors import KNeighborsClassifier\n",
    "from sklearn.naive_bayes import GaussianNB\n",
    "from sklearn.ensemble import RandomForestClassifier\n",
    "from sklearn.ensemble import StackingClassifier\n",
    "from sklearn.ensemble import AdaBoostClassifier, GradientBoostingClassifier\n",
    "from sklearn.tree import DecisionTreeClassifier"
   ]
  },
  {
   "cell_type": "markdown",
   "id": "8fe1a778",
   "metadata": {
    "id": "8fe1a778"
   },
   "source": [
    "### 2. Load the dataset and display a sample of five rows of the data frame."
   ]
  },
  {
   "cell_type": "code",
   "execution_count": null,
   "id": "lhAe9IZxBD40",
   "metadata": {
    "id": "lhAe9IZxBD40"
   },
   "outputs": [],
   "source": [
    "#from google.colab import drive\n",
    "#drive.mount('/content/drive')\n",
    "#df = pd.read_csv('/content/drive/MyDrive/heart_data.csv')"
   ]
  },
  {
   "cell_type": "code",
   "execution_count": null,
   "id": "l9XqZkTqVi4_",
   "metadata": {
    "colab": {
     "base_uri": "https://localhost:8080/",
     "height": 270
    },
    "executionInfo": {
     "elapsed": 413,
     "status": "ok",
     "timestamp": 1655549650830,
     "user": {
      "displayName": "Ranjitha Prasad",
      "userId": "10570177482505539876"
     },
     "user_tz": -330
    },
    "id": "l9XqZkTqVi4_",
    "outputId": "06e1dda9-5e04-4067-ead3-78de3e61da93"
   },
   "outputs": [
    {
     "data": {
      "text/html": [
       "<div>\n",
       "<style scoped>\n",
       "    .dataframe tbody tr th:only-of-type {\n",
       "        vertical-align: middle;\n",
       "    }\n",
       "\n",
       "    .dataframe tbody tr th {\n",
       "        vertical-align: top;\n",
       "    }\n",
       "\n",
       "    .dataframe thead th {\n",
       "        text-align: right;\n",
       "    }\n",
       "</style>\n",
       "<table border=\"1\" class=\"dataframe\">\n",
       "  <thead>\n",
       "    <tr style=\"text-align: right;\">\n",
       "      <th></th>\n",
       "      <th>HeartDisease</th>\n",
       "      <th>BMI</th>\n",
       "      <th>Smoking</th>\n",
       "      <th>AlcoholDrinking</th>\n",
       "      <th>Stroke</th>\n",
       "      <th>PhysicalHealth</th>\n",
       "      <th>MentalHealth</th>\n",
       "      <th>DiffWalking</th>\n",
       "      <th>Sex</th>\n",
       "      <th>AgeCategory</th>\n",
       "      <th>Race</th>\n",
       "      <th>Diabetic</th>\n",
       "      <th>PhysicalActivity</th>\n",
       "      <th>GenHealth</th>\n",
       "      <th>SleepTime</th>\n",
       "      <th>Asthma</th>\n",
       "      <th>KidneyDisease</th>\n",
       "      <th>SkinCancer</th>\n",
       "    </tr>\n",
       "  </thead>\n",
       "  <tbody>\n",
       "    <tr>\n",
       "      <th>0</th>\n",
       "      <td>No</td>\n",
       "      <td>16.60</td>\n",
       "      <td>Yes</td>\n",
       "      <td>No</td>\n",
       "      <td>No</td>\n",
       "      <td>3.0</td>\n",
       "      <td>30.0</td>\n",
       "      <td>No</td>\n",
       "      <td>Female</td>\n",
       "      <td>55-59</td>\n",
       "      <td>White</td>\n",
       "      <td>Yes</td>\n",
       "      <td>Yes</td>\n",
       "      <td>Very good</td>\n",
       "      <td>5.0</td>\n",
       "      <td>Yes</td>\n",
       "      <td>No</td>\n",
       "      <td>Yes</td>\n",
       "    </tr>\n",
       "    <tr>\n",
       "      <th>1</th>\n",
       "      <td>No</td>\n",
       "      <td>20.34</td>\n",
       "      <td>No</td>\n",
       "      <td>No</td>\n",
       "      <td>Yes</td>\n",
       "      <td>0.0</td>\n",
       "      <td>0.0</td>\n",
       "      <td>No</td>\n",
       "      <td>Female</td>\n",
       "      <td>80 or older</td>\n",
       "      <td>White</td>\n",
       "      <td>No</td>\n",
       "      <td>Yes</td>\n",
       "      <td>Very good</td>\n",
       "      <td>7.0</td>\n",
       "      <td>No</td>\n",
       "      <td>No</td>\n",
       "      <td>No</td>\n",
       "    </tr>\n",
       "    <tr>\n",
       "      <th>2</th>\n",
       "      <td>No</td>\n",
       "      <td>26.58</td>\n",
       "      <td>Yes</td>\n",
       "      <td>No</td>\n",
       "      <td>No</td>\n",
       "      <td>20.0</td>\n",
       "      <td>30.0</td>\n",
       "      <td>No</td>\n",
       "      <td>Male</td>\n",
       "      <td>65-69</td>\n",
       "      <td>White</td>\n",
       "      <td>Yes</td>\n",
       "      <td>Yes</td>\n",
       "      <td>Fair</td>\n",
       "      <td>8.0</td>\n",
       "      <td>Yes</td>\n",
       "      <td>No</td>\n",
       "      <td>No</td>\n",
       "    </tr>\n",
       "    <tr>\n",
       "      <th>3</th>\n",
       "      <td>No</td>\n",
       "      <td>24.21</td>\n",
       "      <td>No</td>\n",
       "      <td>No</td>\n",
       "      <td>No</td>\n",
       "      <td>0.0</td>\n",
       "      <td>0.0</td>\n",
       "      <td>No</td>\n",
       "      <td>Female</td>\n",
       "      <td>75-79</td>\n",
       "      <td>White</td>\n",
       "      <td>No</td>\n",
       "      <td>No</td>\n",
       "      <td>Good</td>\n",
       "      <td>6.0</td>\n",
       "      <td>No</td>\n",
       "      <td>No</td>\n",
       "      <td>Yes</td>\n",
       "    </tr>\n",
       "    <tr>\n",
       "      <th>4</th>\n",
       "      <td>No</td>\n",
       "      <td>23.71</td>\n",
       "      <td>No</td>\n",
       "      <td>No</td>\n",
       "      <td>No</td>\n",
       "      <td>28.0</td>\n",
       "      <td>0.0</td>\n",
       "      <td>Yes</td>\n",
       "      <td>Female</td>\n",
       "      <td>40-44</td>\n",
       "      <td>White</td>\n",
       "      <td>No</td>\n",
       "      <td>Yes</td>\n",
       "      <td>Very good</td>\n",
       "      <td>8.0</td>\n",
       "      <td>No</td>\n",
       "      <td>No</td>\n",
       "      <td>No</td>\n",
       "    </tr>\n",
       "  </tbody>\n",
       "</table>\n",
       "</div>"
      ],
      "text/plain": [
       "  HeartDisease    BMI Smoking AlcoholDrinking Stroke  PhysicalHealth  \\\n",
       "0           No  16.60     Yes              No     No             3.0   \n",
       "1           No  20.34      No              No    Yes             0.0   \n",
       "2           No  26.58     Yes              No     No            20.0   \n",
       "3           No  24.21      No              No     No             0.0   \n",
       "4           No  23.71      No              No     No            28.0   \n",
       "\n",
       "   MentalHealth DiffWalking     Sex  AgeCategory   Race Diabetic  \\\n",
       "0          30.0          No  Female        55-59  White      Yes   \n",
       "1           0.0          No  Female  80 or older  White       No   \n",
       "2          30.0          No    Male        65-69  White      Yes   \n",
       "3           0.0          No  Female        75-79  White       No   \n",
       "4           0.0         Yes  Female        40-44  White       No   \n",
       "\n",
       "  PhysicalActivity  GenHealth  SleepTime Asthma KidneyDisease SkinCancer  \n",
       "0              Yes  Very good        5.0    Yes            No        Yes  \n",
       "1              Yes  Very good        7.0     No            No         No  \n",
       "2              Yes       Fair        8.0    Yes            No         No  \n",
       "3               No       Good        6.0     No            No        Yes  \n",
       "4              Yes  Very good        8.0     No            No         No  "
      ]
     },
     "execution_count": 222,
     "metadata": {},
     "output_type": "execute_result"
    }
   ],
   "source": [
    "df = pd.read_csv('heart_data.csv')\n",
    "df.head()"
   ]
  },
  {
   "cell_type": "markdown",
   "id": "7d65d16b",
   "metadata": {
    "id": "7d65d16b"
   },
   "source": [
    "### 3. Check the shape of the data (number of rows and columns). Check the general information about the dataframe using the .info() method."
   ]
  },
  {
   "cell_type": "code",
   "execution_count": null,
   "id": "844c36e6",
   "metadata": {
    "id": "844c36e6",
    "outputId": "177c8837-df49-4c3c-97ca-8ee85861ba89"
   },
   "outputs": [
    {
     "data": {
      "text/plain": [
       "(319795, 18)"
      ]
     },
     "execution_count": 223,
     "metadata": {},
     "output_type": "execute_result"
    }
   ],
   "source": [
    "df.shape"
   ]
  },
  {
   "cell_type": "code",
   "execution_count": null,
   "id": "5e59b172",
   "metadata": {
    "colab": {
     "base_uri": "https://localhost:8080/"
    },
    "executionInfo": {
     "elapsed": 422,
     "status": "ok",
     "timestamp": 1655549707657,
     "user": {
      "displayName": "Ranjitha Prasad",
      "userId": "10570177482505539876"
     },
     "user_tz": -330
    },
    "id": "5e59b172",
    "outputId": "2a07cb32-76f9-451d-efd0-28104ad1d807"
   },
   "outputs": [
    {
     "name": "stdout",
     "output_type": "stream",
     "text": [
      "<class 'pandas.core.frame.DataFrame'>\n",
      "RangeIndex: 319795 entries, 0 to 319794\n",
      "Data columns (total 18 columns):\n",
      " #   Column            Non-Null Count   Dtype  \n",
      "---  ------            --------------   -----  \n",
      " 0   HeartDisease      319795 non-null  object \n",
      " 1   BMI               319795 non-null  float64\n",
      " 2   Smoking           319795 non-null  object \n",
      " 3   AlcoholDrinking   319795 non-null  object \n",
      " 4   Stroke            319795 non-null  object \n",
      " 5   PhysicalHealth    319795 non-null  float64\n",
      " 6   MentalHealth      319795 non-null  float64\n",
      " 7   DiffWalking       319795 non-null  object \n",
      " 8   Sex               319795 non-null  object \n",
      " 9   AgeCategory       319795 non-null  object \n",
      " 10  Race              319795 non-null  object \n",
      " 11  Diabetic          319795 non-null  object \n",
      " 12  PhysicalActivity  319795 non-null  object \n",
      " 13  GenHealth         319795 non-null  object \n",
      " 14  SleepTime         319795 non-null  float64\n",
      " 15  Asthma            319795 non-null  object \n",
      " 16  KidneyDisease     319795 non-null  object \n",
      " 17  SkinCancer        319795 non-null  object \n",
      "dtypes: float64(4), object(14)\n",
      "memory usage: 43.9+ MB\n"
     ]
    }
   ],
   "source": [
    "df.info()"
   ]
  },
  {
   "cell_type": "markdown",
   "id": "9d4be9a5",
   "metadata": {
    "id": "9d4be9a5"
   },
   "source": [
    "- The output shows that we have around 319795 entries with 18 columns. \n",
    "- We have 14 object type data and 4 float type data with aprox 43.9 MB of memory usage"
   ]
  },
  {
   "cell_type": "markdown",
   "id": "1052145a",
   "metadata": {
    "id": "1052145a"
   },
   "source": [
    "### 4. Check the statistical summary of the dataset and write your inferences."
   ]
  },
  {
   "cell_type": "code",
   "execution_count": null,
   "id": "5df66600",
   "metadata": {
    "colab": {
     "base_uri": "https://localhost:8080/",
     "height": 300
    },
    "executionInfo": {
     "elapsed": 401,
     "status": "ok",
     "timestamp": 1655549751344,
     "user": {
      "displayName": "Ranjitha Prasad",
      "userId": "10570177482505539876"
     },
     "user_tz": -330
    },
    "id": "5df66600",
    "outputId": "4efd27ec-9dd4-46c2-b6b8-488f0c7b62fb"
   },
   "outputs": [
    {
     "data": {
      "text/html": [
       "<div>\n",
       "<style scoped>\n",
       "    .dataframe tbody tr th:only-of-type {\n",
       "        vertical-align: middle;\n",
       "    }\n",
       "\n",
       "    .dataframe tbody tr th {\n",
       "        vertical-align: top;\n",
       "    }\n",
       "\n",
       "    .dataframe thead th {\n",
       "        text-align: right;\n",
       "    }\n",
       "</style>\n",
       "<table border=\"1\" class=\"dataframe\">\n",
       "  <thead>\n",
       "    <tr style=\"text-align: right;\">\n",
       "      <th></th>\n",
       "      <th>count</th>\n",
       "      <th>mean</th>\n",
       "      <th>std</th>\n",
       "      <th>min</th>\n",
       "      <th>25%</th>\n",
       "      <th>50%</th>\n",
       "      <th>75%</th>\n",
       "      <th>max</th>\n",
       "    </tr>\n",
       "  </thead>\n",
       "  <tbody>\n",
       "    <tr>\n",
       "      <th>BMI</th>\n",
       "      <td>319795.0</td>\n",
       "      <td>28.325399</td>\n",
       "      <td>6.356100</td>\n",
       "      <td>12.02</td>\n",
       "      <td>24.03</td>\n",
       "      <td>27.34</td>\n",
       "      <td>31.42</td>\n",
       "      <td>94.85</td>\n",
       "    </tr>\n",
       "    <tr>\n",
       "      <th>PhysicalHealth</th>\n",
       "      <td>319795.0</td>\n",
       "      <td>3.371710</td>\n",
       "      <td>7.950850</td>\n",
       "      <td>0.00</td>\n",
       "      <td>0.00</td>\n",
       "      <td>0.00</td>\n",
       "      <td>2.00</td>\n",
       "      <td>30.00</td>\n",
       "    </tr>\n",
       "    <tr>\n",
       "      <th>MentalHealth</th>\n",
       "      <td>319795.0</td>\n",
       "      <td>3.898366</td>\n",
       "      <td>7.955235</td>\n",
       "      <td>0.00</td>\n",
       "      <td>0.00</td>\n",
       "      <td>0.00</td>\n",
       "      <td>3.00</td>\n",
       "      <td>30.00</td>\n",
       "    </tr>\n",
       "    <tr>\n",
       "      <th>SleepTime</th>\n",
       "      <td>319795.0</td>\n",
       "      <td>7.097075</td>\n",
       "      <td>1.436007</td>\n",
       "      <td>1.00</td>\n",
       "      <td>6.00</td>\n",
       "      <td>7.00</td>\n",
       "      <td>8.00</td>\n",
       "      <td>24.00</td>\n",
       "    </tr>\n",
       "  </tbody>\n",
       "</table>\n",
       "</div>"
      ],
      "text/plain": [
       "                   count       mean       std    min    25%    50%    75%  \\\n",
       "BMI             319795.0  28.325399  6.356100  12.02  24.03  27.34  31.42   \n",
       "PhysicalHealth  319795.0   3.371710  7.950850   0.00   0.00   0.00   2.00   \n",
       "MentalHealth    319795.0   3.898366  7.955235   0.00   0.00   0.00   3.00   \n",
       "SleepTime       319795.0   7.097075  1.436007   1.00   6.00   7.00   8.00   \n",
       "\n",
       "                  max  \n",
       "BMI             94.85  \n",
       "PhysicalHealth  30.00  \n",
       "MentalHealth    30.00  \n",
       "SleepTime       24.00  "
      ]
     },
     "execution_count": 225,
     "metadata": {},
     "output_type": "execute_result"
    }
   ],
   "source": [
    "df.describe().T"
   ]
  },
  {
   "cell_type": "code",
   "execution_count": null,
   "id": "9100fc51",
   "metadata": {
    "id": "9100fc51",
    "outputId": "a1f7983f-16c1-4c0b-aff6-d00b46d8c653"
   },
   "outputs": [
    {
     "data": {
      "text/html": [
       "<div>\n",
       "<style scoped>\n",
       "    .dataframe tbody tr th:only-of-type {\n",
       "        vertical-align: middle;\n",
       "    }\n",
       "\n",
       "    .dataframe tbody tr th {\n",
       "        vertical-align: top;\n",
       "    }\n",
       "\n",
       "    .dataframe thead th {\n",
       "        text-align: right;\n",
       "    }\n",
       "</style>\n",
       "<table border=\"1\" class=\"dataframe\">\n",
       "  <thead>\n",
       "    <tr style=\"text-align: right;\">\n",
       "      <th></th>\n",
       "      <th>HeartDisease</th>\n",
       "      <th>Smoking</th>\n",
       "      <th>AlcoholDrinking</th>\n",
       "      <th>Stroke</th>\n",
       "      <th>DiffWalking</th>\n",
       "      <th>Sex</th>\n",
       "      <th>AgeCategory</th>\n",
       "      <th>Race</th>\n",
       "      <th>Diabetic</th>\n",
       "      <th>PhysicalActivity</th>\n",
       "      <th>GenHealth</th>\n",
       "      <th>Asthma</th>\n",
       "      <th>KidneyDisease</th>\n",
       "      <th>SkinCancer</th>\n",
       "    </tr>\n",
       "  </thead>\n",
       "  <tbody>\n",
       "    <tr>\n",
       "      <th>count</th>\n",
       "      <td>319795</td>\n",
       "      <td>319795</td>\n",
       "      <td>319795</td>\n",
       "      <td>319795</td>\n",
       "      <td>319795</td>\n",
       "      <td>319795</td>\n",
       "      <td>319795</td>\n",
       "      <td>319795</td>\n",
       "      <td>319795</td>\n",
       "      <td>319795</td>\n",
       "      <td>319795</td>\n",
       "      <td>319795</td>\n",
       "      <td>319795</td>\n",
       "      <td>319795</td>\n",
       "    </tr>\n",
       "    <tr>\n",
       "      <th>unique</th>\n",
       "      <td>2</td>\n",
       "      <td>2</td>\n",
       "      <td>2</td>\n",
       "      <td>2</td>\n",
       "      <td>2</td>\n",
       "      <td>2</td>\n",
       "      <td>13</td>\n",
       "      <td>6</td>\n",
       "      <td>4</td>\n",
       "      <td>2</td>\n",
       "      <td>5</td>\n",
       "      <td>2</td>\n",
       "      <td>2</td>\n",
       "      <td>2</td>\n",
       "    </tr>\n",
       "    <tr>\n",
       "      <th>top</th>\n",
       "      <td>No</td>\n",
       "      <td>No</td>\n",
       "      <td>No</td>\n",
       "      <td>No</td>\n",
       "      <td>No</td>\n",
       "      <td>Female</td>\n",
       "      <td>65-69</td>\n",
       "      <td>White</td>\n",
       "      <td>No</td>\n",
       "      <td>Yes</td>\n",
       "      <td>Very good</td>\n",
       "      <td>No</td>\n",
       "      <td>No</td>\n",
       "      <td>No</td>\n",
       "    </tr>\n",
       "    <tr>\n",
       "      <th>freq</th>\n",
       "      <td>292422</td>\n",
       "      <td>187887</td>\n",
       "      <td>298018</td>\n",
       "      <td>307726</td>\n",
       "      <td>275385</td>\n",
       "      <td>167805</td>\n",
       "      <td>34151</td>\n",
       "      <td>245212</td>\n",
       "      <td>269653</td>\n",
       "      <td>247957</td>\n",
       "      <td>113858</td>\n",
       "      <td>276923</td>\n",
       "      <td>308016</td>\n",
       "      <td>289976</td>\n",
       "    </tr>\n",
       "  </tbody>\n",
       "</table>\n",
       "</div>"
      ],
      "text/plain": [
       "       HeartDisease Smoking AlcoholDrinking  Stroke DiffWalking     Sex  \\\n",
       "count        319795  319795          319795  319795      319795  319795   \n",
       "unique            2       2               2       2           2       2   \n",
       "top              No      No              No      No          No  Female   \n",
       "freq         292422  187887          298018  307726      275385  167805   \n",
       "\n",
       "       AgeCategory    Race Diabetic PhysicalActivity  GenHealth  Asthma  \\\n",
       "count       319795  319795   319795           319795     319795  319795   \n",
       "unique          13       6        4                2          5       2   \n",
       "top          65-69   White       No              Yes  Very good      No   \n",
       "freq         34151  245212   269653           247957     113858  276923   \n",
       "\n",
       "       KidneyDisease SkinCancer  \n",
       "count         319795     319795  \n",
       "unique             2          2  \n",
       "top               No         No  \n",
       "freq          308016     289976  "
      ]
     },
     "execution_count": 226,
     "metadata": {},
     "output_type": "execute_result"
    }
   ],
   "source": [
    "df.describe(include='O')"
   ]
  },
  {
   "cell_type": "markdown",
   "id": "23e80b31",
   "metadata": {
    "id": "23e80b31"
   },
   "source": []
  },
  {
   "cell_type": "markdown",
   "id": "46e2fdc1",
   "metadata": {
    "id": "46e2fdc1"
   },
   "source": [
    "### 5. Check the percentage of missing values in each column of the data frame. Drop the missing values if there are any."
   ]
  },
  {
   "cell_type": "code",
   "execution_count": null,
   "id": "209f6435",
   "metadata": {
    "id": "209f6435",
    "outputId": "8167a227-d59d-4633-ff0f-d6cb7ce3f6ff"
   },
   "outputs": [
    {
     "data": {
      "text/plain": [
       "HeartDisease        0.0\n",
       "BMI                 0.0\n",
       "Smoking             0.0\n",
       "AlcoholDrinking     0.0\n",
       "Stroke              0.0\n",
       "PhysicalHealth      0.0\n",
       "MentalHealth        0.0\n",
       "DiffWalking         0.0\n",
       "Sex                 0.0\n",
       "AgeCategory         0.0\n",
       "Race                0.0\n",
       "Diabetic            0.0\n",
       "PhysicalActivity    0.0\n",
       "GenHealth           0.0\n",
       "SleepTime           0.0\n",
       "Asthma              0.0\n",
       "KidneyDisease       0.0\n",
       "SkinCancer          0.0\n",
       "dtype: float64"
      ]
     },
     "execution_count": 227,
     "metadata": {},
     "output_type": "execute_result"
    }
   ],
   "source": [
    "# Checking percentage of missing values in each colunms of data frame\n",
    "df.isnull().sum()/len(df)*100"
   ]
  },
  {
   "cell_type": "markdown",
   "id": "c95d3277",
   "metadata": {
    "id": "c95d3277"
   },
   "source": [
    "- There are no missing values in the dataset."
   ]
  },
  {
   "cell_type": "markdown",
   "id": "3a523216",
   "metadata": {
    "id": "3a523216"
   },
   "source": [
    "### 6. Check if there are any duplicate rows. If any drop them and check the shape of the dataframe after dropping duplicates."
   ]
  },
  {
   "cell_type": "code",
   "execution_count": null,
   "id": "c0869572",
   "metadata": {
    "id": "c0869572",
    "outputId": "f9f2bf79-00d5-4438-ab0b-a12ab758dc56"
   },
   "outputs": [
    {
     "data": {
      "text/plain": [
       "18078"
      ]
     },
     "execution_count": 228,
     "metadata": {},
     "output_type": "execute_result"
    }
   ],
   "source": [
    "len(df[df.duplicated()])"
   ]
  },
  {
   "cell_type": "markdown",
   "id": "9e068f25",
   "metadata": {
    "id": "9e068f25"
   },
   "source": [
    "- There are more than 18K duplicate record, needs to drop them"
   ]
  },
  {
   "cell_type": "code",
   "execution_count": null,
   "id": "11bcd7e9",
   "metadata": {
    "id": "11bcd7e9"
   },
   "outputs": [],
   "source": [
    "df.drop_duplicates(inplace=True)"
   ]
  },
  {
   "cell_type": "code",
   "execution_count": null,
   "id": "999d5277",
   "metadata": {
    "id": "999d5277",
    "outputId": "838d11e0-109d-4d7f-abad-54b02b240e8d"
   },
   "outputs": [
    {
     "data": {
      "text/plain": [
       "(301717, 18)"
      ]
     },
     "execution_count": 230,
     "metadata": {},
     "output_type": "execute_result"
    }
   ],
   "source": [
    "df.shape"
   ]
  },
  {
   "cell_type": "markdown",
   "id": "5d0eccca",
   "metadata": {
    "id": "5d0eccca"
   },
   "source": [
    "### 7. Check the distribution of the target variable (i.e. 'HeartDisease') and write your observations."
   ]
  },
  {
   "cell_type": "code",
   "execution_count": null,
   "id": "a8790409",
   "metadata": {
    "colab": {
     "base_uri": "https://localhost:8080/",
     "height": 296
    },
    "executionInfo": {
     "elapsed": 682,
     "status": "ok",
     "timestamp": 1655446442181,
     "user": {
      "displayName": "V. Arun Kumar",
      "userId": "02991517788843717529"
     },
     "user_tz": -330
    },
    "id": "a8790409",
    "outputId": "f65a2f0e-fb50-4836-c5d4-e47f621dcc8c"
   },
   "outputs": [
    {
     "data": {
      "image/png": "[encoded data removed]",
      "text/plain": [
       "<Figure size 432x288 with 1 Axes>"
      ]
     },
     "metadata": {},
     "output_type": "display_data"
    }
   ],
   "source": [
    "##checking the count of target variable\n",
    "df['HeartDisease'].value_counts().plot(kind='pie',autopct='%1.0f%%')\n",
    "plt.show()"
   ]
  },
  {
   "cell_type": "markdown",
   "id": "20ca20d0",
   "metadata": {
    "id": "20ca20d0"
   },
   "source": [
    "### 8. Visualize the distribution of the target column 'heart disease' with respect to various categorical features and write your observations."
   ]
  },
  {
   "cell_type": "code",
   "execution_count": null,
   "id": "a2e41b9a",
   "metadata": {
    "colab": {
     "base_uri": "https://localhost:8080/"
    },
    "executionInfo": {
     "elapsed": 367,
     "status": "ok",
     "timestamp": 1655550161776,
     "user": {
      "displayName": "Ranjitha Prasad",
      "userId": "10570177482505539876"
     },
     "user_tz": -330
    },
    "id": "a2e41b9a",
    "outputId": "f07538fb-a05c-4dbd-e8c8-eb1c207751ed"
   },
   "outputs": [
    {
     "data": {
      "text/plain": [
       "Index(['HeartDisease', 'Smoking', 'AlcoholDrinking', 'Stroke', 'DiffWalking',\n",
       "       'Sex', 'AgeCategory', 'Race', 'Diabetic', 'PhysicalActivity',\n",
       "       'GenHealth', 'Asthma', 'KidneyDisease', 'SkinCancer'],\n",
       "      dtype='object')"
      ]
     },
     "execution_count": 167,
     "metadata": {},
     "output_type": "execute_result"
    }
   ],
   "source": [
    "categorical_features = df.select_dtypes(include=[np.object])\n",
    "categorical_features.columns"
   ]
  },
  {
   "cell_type": "markdown",
   "id": "1d2a9878",
   "metadata": {
    "id": "1d2a9878"
   },
   "source": [
    "### 9. Check the unique categories in the column 'Diabetic'. Replace 'Yes (during pregnancy)' as 'Yes' and 'No, borderline diabetes' as 'No'."
   ]
  },
  {
   "cell_type": "code",
   "execution_count": null,
   "id": "805e88d2",
   "metadata": {
    "id": "805e88d2",
    "outputId": "c95c4bfd-3fee-4dac-82a2-1a8a6ccdc874"
   },
   "outputs": [
    {
     "data": {
      "text/plain": [
       "array(['Yes', 'No', 'No, borderline diabetes', 'Yes (during pregnancy)'],\n",
       "      dtype=object)"
      ]
     },
     "execution_count": 232,
     "metadata": {},
     "output_type": "execute_result"
    }
   ],
   "source": [
    "## checking unique categories in column 'Diabetic'\n",
    "df['Diabetic'].unique()"
   ]
  },
  {
   "cell_type": "code",
   "execution_count": null,
   "id": "3af12c95",
   "metadata": {
    "id": "3af12c95"
   },
   "outputs": [],
   "source": [
    "df['Diabetic'] = df['Diabetic'].replace({'Yes (during pregnancy)':'Yes','No, borderline diabetes':'No'})"
   ]
  },
  {
   "cell_type": "code",
   "execution_count": null,
   "id": "abe7cdcd",
   "metadata": {
    "id": "abe7cdcd",
    "outputId": "d476fdd3-1d02-4e76-b5cb-3ca2b4a44310"
   },
   "outputs": [
    {
     "data": {
      "text/plain": [
       "No     258572\n",
       "Yes     43145\n",
       "Name: Diabetic, dtype: int64"
      ]
     },
     "execution_count": 234,
     "metadata": {},
     "output_type": "execute_result"
    }
   ],
   "source": [
    "## rechecking\n",
    "df['Diabetic'].value_counts()"
   ]
  },
  {
   "cell_type": "markdown",
   "id": "a731fc61",
   "metadata": {
    "id": "a731fc61"
   },
   "source": [
    "### 10. For the target column 'HeartDiease', Replace 'No' as 0 and 'Yes' as 1. "
   ]
  },
  {
   "cell_type": "code",
   "execution_count": null,
   "id": "61d122c9",
   "metadata": {
    "id": "61d122c9"
   },
   "outputs": [],
   "source": [
    "## Replacing \"No\" as 0 and \"Yes\" as 1\n",
    "df['HeartDisease'] = df['HeartDisease'].replace({'Yes':1,'No':0})"
   ]
  },
  {
   "cell_type": "code",
   "execution_count": null,
   "id": "6044e1f0",
   "metadata": {
    "id": "6044e1f0",
    "outputId": "ccbf1348-a561-4a90-ea74-680541e4964f"
   },
   "outputs": [
    {
     "data": {
      "text/plain": [
       "0    274456\n",
       "1     27261\n",
       "Name: HeartDisease, dtype: int64"
      ]
     },
     "execution_count": 236,
     "metadata": {},
     "output_type": "execute_result"
    }
   ],
   "source": [
    "## checking\n",
    "df['HeartDisease'].value_counts()"
   ]
  },
  {
   "cell_type": "markdown",
   "id": "d06850aa",
   "metadata": {
    "id": "d06850aa"
   },
   "source": [
    "### 11. Label Encode the columns \"AgeCategory\", \"Race\", and \"GenHealth\". Encode the rest of the columns using dummy encoding approach."
   ]
  },
  {
   "cell_type": "code",
   "execution_count": null,
   "id": "525986e3",
   "metadata": {
    "id": "525986e3"
   },
   "outputs": [],
   "source": [
    "## Label Encoding categorical variables using \"AgeCategory\", \"Race\", and \"GenHealth\" label encoder\n",
    "\n",
    "## select object datatype variables\n",
    "object_type_variables = [i for i in df[['AgeCategory','Race','GenHealth']] if df.dtypes[i] == object]\n",
    "object_type_variables \n",
    "\n",
    "\n",
    "le = LabelEncoder()\n",
    "\n",
    "def encoder(df):\n",
    "    for i in object_type_variables:\n",
    "        q = le.fit_transform(df[i].astype(str))  \n",
    "        df[i] = q                               \n",
    "        df[i] = df[i].astype(int)\n",
    "encoder(df)"
   ]
  },
  {
   "cell_type": "code",
   "execution_count": null,
   "id": "9a7b1393",
   "metadata": {
    "id": "9a7b1393"
   },
   "outputs": [],
   "source": [
    "## Dummy encoding the rest of the columns, since they have binary entries. 'Yes' or 'No'\n",
    "df = pd.get_dummies(df,drop_first=True)"
   ]
  },
  {
   "cell_type": "code",
   "execution_count": null,
   "id": "a0849daf",
   "metadata": {
    "id": "a0849daf",
    "outputId": "ab04a583-be8d-4dd4-8bdb-823a515d6fd0",
    "scrolled": true
   },
   "outputs": [
    {
     "data": {
      "text/html": [
       "<div>\n",
       "<style scoped>\n",
       "    .dataframe tbody tr th:only-of-type {\n",
       "        vertical-align: middle;\n",
       "    }\n",
       "\n",
       "    .dataframe tbody tr th {\n",
       "        vertical-align: top;\n",
       "    }\n",
       "\n",
       "    .dataframe thead th {\n",
       "        text-align: right;\n",
       "    }\n",
       "</style>\n",
       "<table border=\"1\" class=\"dataframe\">\n",
       "  <thead>\n",
       "    <tr style=\"text-align: right;\">\n",
       "      <th></th>\n",
       "      <th>HeartDisease</th>\n",
       "      <th>BMI</th>\n",
       "      <th>PhysicalHealth</th>\n",
       "      <th>MentalHealth</th>\n",
       "      <th>AgeCategory</th>\n",
       "      <th>Race</th>\n",
       "      <th>GenHealth</th>\n",
       "      <th>SleepTime</th>\n",
       "      <th>Smoking_Yes</th>\n",
       "      <th>AlcoholDrinking_Yes</th>\n",
       "      <th>Stroke_Yes</th>\n",
       "      <th>DiffWalking_Yes</th>\n",
       "      <th>Sex_Male</th>\n",
       "      <th>Diabetic_Yes</th>\n",
       "      <th>PhysicalActivity_Yes</th>\n",
       "      <th>Asthma_Yes</th>\n",
       "      <th>KidneyDisease_Yes</th>\n",
       "      <th>SkinCancer_Yes</th>\n",
       "    </tr>\n",
       "  </thead>\n",
       "  <tbody>\n",
       "    <tr>\n",
       "      <th>0</th>\n",
       "      <td>0</td>\n",
       "      <td>16.60</td>\n",
       "      <td>3.0</td>\n",
       "      <td>30.0</td>\n",
       "      <td>7</td>\n",
       "      <td>5</td>\n",
       "      <td>4</td>\n",
       "      <td>5.0</td>\n",
       "      <td>1</td>\n",
       "      <td>0</td>\n",
       "      <td>0</td>\n",
       "      <td>0</td>\n",
       "      <td>0</td>\n",
       "      <td>1</td>\n",
       "      <td>1</td>\n",
       "      <td>1</td>\n",
       "      <td>0</td>\n",
       "      <td>1</td>\n",
       "    </tr>\n",
       "    <tr>\n",
       "      <th>1</th>\n",
       "      <td>0</td>\n",
       "      <td>20.34</td>\n",
       "      <td>0.0</td>\n",
       "      <td>0.0</td>\n",
       "      <td>12</td>\n",
       "      <td>5</td>\n",
       "      <td>4</td>\n",
       "      <td>7.0</td>\n",
       "      <td>0</td>\n",
       "      <td>0</td>\n",
       "      <td>1</td>\n",
       "      <td>0</td>\n",
       "      <td>0</td>\n",
       "      <td>0</td>\n",
       "      <td>1</td>\n",
       "      <td>0</td>\n",
       "      <td>0</td>\n",
       "      <td>0</td>\n",
       "    </tr>\n",
       "  </tbody>\n",
       "</table>\n",
       "</div>"
      ],
      "text/plain": [
       "   HeartDisease    BMI  PhysicalHealth  MentalHealth  AgeCategory  Race  \\\n",
       "0             0  16.60             3.0          30.0            7     5   \n",
       "1             0  20.34             0.0           0.0           12     5   \n",
       "\n",
       "   GenHealth  SleepTime  Smoking_Yes  AlcoholDrinking_Yes  Stroke_Yes  \\\n",
       "0          4        5.0            1                    0           0   \n",
       "1          4        7.0            0                    0           1   \n",
       "\n",
       "   DiffWalking_Yes  Sex_Male  Diabetic_Yes  PhysicalActivity_Yes  Asthma_Yes  \\\n",
       "0                0         0             1                     1           1   \n",
       "1                0         0             0                     1           0   \n",
       "\n",
       "   KidneyDisease_Yes  SkinCancer_Yes  \n",
       "0                  0               1  \n",
       "1                  0               0  "
      ]
     },
     "execution_count": 240,
     "metadata": {},
     "output_type": "execute_result"
    }
   ],
   "source": [
    "## let check few samples after encoding.\n",
    "df.head(2)"
   ]
  },
  {
   "cell_type": "markdown",
   "id": "e991aa01",
   "metadata": {
    "id": "e991aa01"
   },
   "source": [
    "### 12. Store the target column (i.e.'HeartDisease') in the y variable and the rest of the columns in the X variable."
   ]
  },
  {
   "cell_type": "code",
   "execution_count": null,
   "id": "977652b9",
   "metadata": {
    "id": "977652b9"
   },
   "outputs": [],
   "source": [
    "## storoing the target column in the Y variable and the rest of the columns in the X variable.\n",
    "X = df.drop('HeartDisease',axis=1)\n",
    "y = df['HeartDisease']"
   ]
  },
  {
   "cell_type": "markdown",
   "id": "32f97c6f",
   "metadata": {
    "id": "32f97c6f"
   },
   "source": [
    "### 13. Split the dataset into two parts (i.e. 70% train and 30% test) and print the shape of the train and test data"
   ]
  },
  {
   "cell_type": "code",
   "execution_count": null,
   "id": "7be616a7",
   "metadata": {
    "id": "7be616a7",
    "outputId": "435d6812-25f1-474e-c7e8-da5974b84664"
   },
   "outputs": [
    {
     "name": "stdout",
     "output_type": "stream",
     "text": [
      "(241373, 17) (60344, 17)\n",
      "(241373,) (60344,)\n"
     ]
    }
   ],
   "source": [
    "## train_test_split() is used to divide dataset into training and test set\n",
    "X_train, X_test, y_train, y_test = train_test_split(X, y, test_size=0.2)\n",
    "\n",
    "print(X_train.shape,X_test.shape)\n",
    "print(y_train.shape,y_test.shape)"
   ]
  },
  {
   "cell_type": "markdown",
   "id": "8ea8dd55",
   "metadata": {
    "id": "8ea8dd55"
   },
   "source": [
    "### 14. Standardize the numerical columns using Standard Scalar approach for both train and test data."
   ]
  },
  {
   "cell_type": "code",
   "execution_count": null,
   "id": "cbb45096",
   "metadata": {
    "id": "cbb45096"
   },
   "outputs": [],
   "source": [
    "## Standardizing only numerical columns. (not standardizing the dummy encoded data)\n",
    "ss = StandardScaler()\n",
    "\n",
    "X_train.iloc[:,:7] = ss.fit_transform(X_train.iloc[:,:7])\n",
    "X_test.iloc[:,:7] = ss.transform(X_test.iloc[:,:7])"
   ]
  },
  {
   "cell_type": "code",
   "execution_count": null,
   "id": "8f25bbdf",
   "metadata": {
    "id": "8f25bbdf",
    "outputId": "718b7df6-a30f-46a4-d2c0-7166a21ebf65"
   },
   "outputs": [
    {
     "data": {
      "text/html": [
       "<div>\n",
       "<style scoped>\n",
       "    .dataframe tbody tr th:only-of-type {\n",
       "        vertical-align: middle;\n",
       "    }\n",
       "\n",
       "    .dataframe tbody tr th {\n",
       "        vertical-align: top;\n",
       "    }\n",
       "\n",
       "    .dataframe thead th {\n",
       "        text-align: right;\n",
       "    }\n",
       "</style>\n",
       "<table border=\"1\" class=\"dataframe\">\n",
       "  <thead>\n",
       "    <tr style=\"text-align: right;\">\n",
       "      <th></th>\n",
       "      <th>BMI</th>\n",
       "      <th>PhysicalHealth</th>\n",
       "      <th>MentalHealth</th>\n",
       "      <th>AgeCategory</th>\n",
       "      <th>Race</th>\n",
       "      <th>GenHealth</th>\n",
       "      <th>SleepTime</th>\n",
       "      <th>Smoking_Yes</th>\n",
       "      <th>AlcoholDrinking_Yes</th>\n",
       "      <th>Stroke_Yes</th>\n",
       "      <th>DiffWalking_Yes</th>\n",
       "      <th>Sex_Male</th>\n",
       "      <th>Diabetic_Yes</th>\n",
       "      <th>PhysicalActivity_Yes</th>\n",
       "      <th>Asthma_Yes</th>\n",
       "      <th>KidneyDisease_Yes</th>\n",
       "      <th>SkinCancer_Yes</th>\n",
       "    </tr>\n",
       "  </thead>\n",
       "  <tbody>\n",
       "    <tr>\n",
       "      <th>22825</th>\n",
       "      <td>0.533574</td>\n",
       "      <td>-0.439338</td>\n",
       "      <td>-0.507793</td>\n",
       "      <td>-0.141155</td>\n",
       "      <td>-1.107788</td>\n",
       "      <td>-0.146624</td>\n",
       "      <td>-0.736522</td>\n",
       "      <td>0</td>\n",
       "      <td>0</td>\n",
       "      <td>0</td>\n",
       "      <td>0</td>\n",
       "      <td>0</td>\n",
       "      <td>0</td>\n",
       "      <td>0</td>\n",
       "      <td>0</td>\n",
       "      <td>0</td>\n",
       "      <td>0</td>\n",
       "    </tr>\n",
       "    <tr>\n",
       "      <th>35757</th>\n",
       "      <td>0.040423</td>\n",
       "      <td>-0.439338</td>\n",
       "      <td>-0.507793</td>\n",
       "      <td>0.416635</td>\n",
       "      <td>-0.297092</td>\n",
       "      <td>-1.469677</td>\n",
       "      <td>0.620888</td>\n",
       "      <td>0</td>\n",
       "      <td>0</td>\n",
       "      <td>0</td>\n",
       "      <td>0</td>\n",
       "      <td>1</td>\n",
       "      <td>0</td>\n",
       "      <td>1</td>\n",
       "      <td>0</td>\n",
       "      <td>0</td>\n",
       "      <td>0</td>\n",
       "    </tr>\n",
       "  </tbody>\n",
       "</table>\n",
       "</div>"
      ],
      "text/plain": [
       "            BMI  PhysicalHealth  MentalHealth  AgeCategory      Race  \\\n",
       "22825  0.533574       -0.439338     -0.507793    -0.141155 -1.107788   \n",
       "35757  0.040423       -0.439338     -0.507793     0.416635 -0.297092   \n",
       "\n",
       "       GenHealth  SleepTime  Smoking_Yes  AlcoholDrinking_Yes  Stroke_Yes  \\\n",
       "22825  -0.146624  -0.736522            0                    0           0   \n",
       "35757  -1.469677   0.620888            0                    0           0   \n",
       "\n",
       "       DiffWalking_Yes  Sex_Male  Diabetic_Yes  PhysicalActivity_Yes  \\\n",
       "22825                0         0             0                     0   \n",
       "35757                0         1             0                     1   \n",
       "\n",
       "       Asthma_Yes  KidneyDisease_Yes  SkinCancer_Yes  \n",
       "22825           0                  0               0  \n",
       "35757           0                  0               0  "
      ]
     },
     "execution_count": 244,
     "metadata": {},
     "output_type": "execute_result"
    }
   ],
   "source": [
    "## Lets check few scaled features\n",
    "X_train.head(2)"
   ]
  },
  {
   "cell_type": "code",
   "execution_count": null,
   "id": "57386022",
   "metadata": {
    "id": "57386022",
    "outputId": "b885ec05-3648-4750-9702-86e85fe8c73f"
   },
   "outputs": [
    {
     "data": {
      "text/html": [
       "<div>\n",
       "<style scoped>\n",
       "    .dataframe tbody tr th:only-of-type {\n",
       "        vertical-align: middle;\n",
       "    }\n",
       "\n",
       "    .dataframe tbody tr th {\n",
       "        vertical-align: top;\n",
       "    }\n",
       "\n",
       "    .dataframe thead th {\n",
       "        text-align: right;\n",
       "    }\n",
       "</style>\n",
       "<table border=\"1\" class=\"dataframe\">\n",
       "  <thead>\n",
       "    <tr style=\"text-align: right;\">\n",
       "      <th></th>\n",
       "      <th>BMI</th>\n",
       "      <th>PhysicalHealth</th>\n",
       "      <th>MentalHealth</th>\n",
       "      <th>AgeCategory</th>\n",
       "      <th>Race</th>\n",
       "      <th>GenHealth</th>\n",
       "      <th>SleepTime</th>\n",
       "      <th>Smoking_Yes</th>\n",
       "      <th>AlcoholDrinking_Yes</th>\n",
       "      <th>Stroke_Yes</th>\n",
       "      <th>DiffWalking_Yes</th>\n",
       "      <th>Sex_Male</th>\n",
       "      <th>Diabetic_Yes</th>\n",
       "      <th>PhysicalActivity_Yes</th>\n",
       "      <th>Asthma_Yes</th>\n",
       "      <th>KidneyDisease_Yes</th>\n",
       "      <th>SkinCancer_Yes</th>\n",
       "    </tr>\n",
       "  </thead>\n",
       "  <tbody>\n",
       "    <tr>\n",
       "      <th>176270</th>\n",
       "      <td>0.927786</td>\n",
       "      <td>-0.439338</td>\n",
       "      <td>-0.139283</td>\n",
       "      <td>-1.814523</td>\n",
       "      <td>0.513603</td>\n",
       "      <td>1.17643</td>\n",
       "      <td>-0.736522</td>\n",
       "      <td>0</td>\n",
       "      <td>0</td>\n",
       "      <td>0</td>\n",
       "      <td>0</td>\n",
       "      <td>1</td>\n",
       "      <td>0</td>\n",
       "      <td>1</td>\n",
       "      <td>0</td>\n",
       "      <td>0</td>\n",
       "      <td>0</td>\n",
       "    </tr>\n",
       "    <tr>\n",
       "      <th>85101</th>\n",
       "      <td>-0.035328</td>\n",
       "      <td>-0.439338</td>\n",
       "      <td>-0.507793</td>\n",
       "      <td>0.974425</td>\n",
       "      <td>0.513603</td>\n",
       "      <td>1.17643</td>\n",
       "      <td>0.620888</td>\n",
       "      <td>1</td>\n",
       "      <td>0</td>\n",
       "      <td>0</td>\n",
       "      <td>0</td>\n",
       "      <td>1</td>\n",
       "      <td>0</td>\n",
       "      <td>1</td>\n",
       "      <td>0</td>\n",
       "      <td>0</td>\n",
       "      <td>0</td>\n",
       "    </tr>\n",
       "  </tbody>\n",
       "</table>\n",
       "</div>"
      ],
      "text/plain": [
       "             BMI  PhysicalHealth  MentalHealth  AgeCategory      Race  \\\n",
       "176270  0.927786       -0.439338     -0.139283    -1.814523  0.513603   \n",
       "85101  -0.035328       -0.439338     -0.507793     0.974425  0.513603   \n",
       "\n",
       "        GenHealth  SleepTime  Smoking_Yes  AlcoholDrinking_Yes  Stroke_Yes  \\\n",
       "176270    1.17643  -0.736522            0                    0           0   \n",
       "85101     1.17643   0.620888            1                    0           0   \n",
       "\n",
       "        DiffWalking_Yes  Sex_Male  Diabetic_Yes  PhysicalActivity_Yes  \\\n",
       "176270                0         1             0                     1   \n",
       "85101                 0         1             0                     1   \n",
       "\n",
       "        Asthma_Yes  KidneyDisease_Yes  SkinCancer_Yes  \n",
       "176270           0                  0               0  \n",
       "85101            0                  0               0  "
      ]
     },
     "execution_count": 245,
     "metadata": {},
     "output_type": "execute_result"
    }
   ],
   "source": [
    "X_test.head(2)"
   ]
  },
  {
   "cell_type": "markdown",
   "id": "bdb30aab",
   "metadata": {
    "id": "bdb30aab"
   },
   "source": [
    "### 15. Write a function.\n",
    "- i) Which can take the model and data as inputs.\n",
    "- ii) Fits the model with the train data.\n",
    "- iii) Makes predictions on the test set.\n",
    "- iv) Returns the Accuracy Score."
   ]
  },
  {
   "cell_type": "markdown",
   "id": "862b277c",
   "metadata": {
    "id": "862b277c"
   },
   "source": [
    "### 16. Use the function and train a Logistic regression, KNN, Naive Bayes, Decision tree, Random Forest, Adaboost, GradientBoost, and Stacked Classifier models and make predictions on test data and evaluate the models, compare and write your conclusions and steps to be taken in future in order to improve the accuracy of the model."
   ]
  }
 ],
 "metadata": {
  "colab": {
   "collapsed_sections": [
    "f8617014",
    "8fe1a778",
    "7d65d16b",
    "1052145a",
    "46e2fdc1",
    "3a523216",
    "5d0eccca",
    "20ca20d0",
    "1d2a9878",
    "a731fc61",
    "d06850aa",
    "e991aa01",
    "32f97c6f",
    "8ea8dd55",
    "bdb30aab",
    "862b277c"
   ],
   "name": "Supervised Learning - Lab Session - Sample Solution.ipynb",
   "provenance": []
  },
  "kernelspec": {
   "display_name": "Python 3 (ipykernel)",
   "language": "python",
   "name": "python3"
  },
  "language_info": {
   "codemirror_mode": {
    "name": "ipython",
    "version": 3
   },
   "file_extension": ".py",
   "mimetype": "text/x-python",
   "name": "python",
   "nbconvert_exporter": "python",
   "pygments_lexer": "ipython3",
   "version": "3.11.5"
  }
 },
 "nbformat": 4,
 "nbformat_minor": 5
}
